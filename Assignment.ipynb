{
 "cells": [
  {
   "cell_type": "markdown",
   "metadata": {},
   "source": [
    "ICT Department\n",
    "Y3 IT\n",
    "Assignment\n",
    "\n",
    "MEMBERS:\n",
    "    \n",
    "    -BENIAMANA Damien  21rp00133\n",
    "    -NYIRAMUGISHA Jeanne 21rp...\n",
    "    -NIYONSEGA JAVAN    21rp....\n"
   ]
  },
  {
   "cell_type": "markdown",
   "metadata": {},
   "source": [
    "Q1.\n",
    " Write a loop that prompts the user to enter a series of pizza toppings until they enter a 'quit' value. As they enter each topping, print a message saying you’ll add that topping to their pizza. "
   ]
  },
  {
   "cell_type": "code",
   "execution_count": 1,
   "metadata": {},
   "outputs": [
    {
     "name": "stdout",
     "output_type": "stream",
     "text": [
      "Adding 4 season to your pizza.\n",
      "Adding 3in one to your pizza.\n",
      "Adding dons to your pizza.\n",
      "Thank you for ordering!\n"
     ]
    }
   ],
   "source": [
    "while True:\n",
    "    topping = input(\"Enter a topping to add to your pizza (enter 'quit' to finish): \")\n",
    "    if topping.lower() == 'quit':\n",
    "        print(\"Thank you for ordering!\")\n",
    "        break\n",
    "    else:\n",
    "        print(\"Adding\", topping, \"to your pizza.\")\n"
   ]
  },
  {
   "cell_type": "markdown",
   "metadata": {},
   "source": [
    "Q2.\n",
    "A movie theatre charges different ticket prices depending on a person’s age. If a person is under the age of 3, the ticket is free; if they are between 3 and 12, the ticket is $10; and if they are over age 12, the ticket is $15. Write a loop in which you ask users their age, and then tell them the cost of their movie ticket."
   ]
  },
  {
   "cell_type": "code",
   "execution_count": 2,
   "metadata": {},
   "outputs": [
    {
     "name": "stdout",
     "output_type": "stream",
     "text": [
      "Please enter a valid age (a number) or 'quit' to exit.\n",
      "Your ticket costs $15.\n",
      "Your ticket costs $15.\n",
      "Your ticket costs $10.\n",
      "Thank you for visiting the movie theatre!\n"
     ]
    }
   ],
   "source": [
    "while True:\n",
    "    age_str = input(\"Please enter your age (or 'quit' to exit): \")\n",
    "    \n",
    "    if age_str.lower() == 'quit':\n",
    "        print(\"Thank you for visiting the movie theatre!\")\n",
    "        break\n",
    "    \n",
    "    try:\n",
    "        age = int(age_str)\n",
    "        if age < 3:\n",
    "            print(\"Your ticket is free.\")\n",
    "        elif 3 <= age <= 12:\n",
    "            print(\"Your ticket costs $10.\")\n",
    "        else:\n",
    "            print(\"Your ticket costs $15.\")\n",
    "    except ValueError:\n",
    "        print(\"Please enter a valid age (a number) or 'quit' to exit.\")\n"
   ]
  },
  {
   "cell_type": "markdown",
   "metadata": {},
   "source": [
    "Q3.\n",
    "Write different versions of either Exercise 1 or 2 that do each of the following at least once:\n",
    "(a)-Use a conditional test in the while statement to stop the loop.\n"
   ]
  },
  {
   "cell_type": "code",
   "execution_count": 3,
   "metadata": {},
   "outputs": [
    {
     "name": "stdout",
     "output_type": "stream",
     "text": [
      "Thank you for ordering!\n"
     ]
    }
   ],
   "source": [
    "topping = \"\"\n",
    "while topping.lower() != 'quit':\n",
    "    topping = input(\"Enter a topping to add to your pizza (enter 'quit' to finish): \")\n",
    "    if topping.lower() != 'quit':\n",
    "        print(\"Adding\", topping, \"to your pizza.\")\n",
    "print(\"Thank you for ordering!\")\n"
   ]
  },
  {
   "cell_type": "markdown",
   "metadata": {},
   "source": [
    "(b)-Use an active variable to control how long the loop runs.\n"
   ]
  },
  {
   "cell_type": "code",
   "execution_count": null,
   "metadata": {},
   "outputs": [],
   "source": [
    "active = True\n",
    "while active:\n",
    "    topping = input(\"Enter a topping to add to your pizza (enter 'quit' to finish): \")\n",
    "    if topping.lower() == 'quit':\n",
    "        active = False\n",
    "    else:\n",
    "        print(\"Adding\", topping, \"to your pizza.\")\n",
    "print(\"Thank you for ordering!\")\n"
   ]
  },
  {
   "cell_type": "markdown",
   "metadata": {},
   "source": [
    "(c)-Use a break statement to exit the loop when the user enters a 'quit' value."
   ]
  },
  {
   "cell_type": "code",
   "execution_count": null,
   "metadata": {},
   "outputs": [],
   "source": [
    "while True:\n",
    "    topping = input(\"Enter a topping to add to your pizza (enter 'quit' to finish): \")\n",
    "    if topping.lower() == 'quit':\n",
    "        print(\"Thank you for ordering!\")\n",
    "        break\n",
    "    else:\n",
    "        print(\"Adding\", topping, \"to your pizza.\")\n"
   ]
  },
  {
   "cell_type": "markdown",
   "metadata": {},
   "source": [
    "Q4.\n",
    "Write a loop that never ends, and run it. (To end the loop, press CTRL-C or close the window displaying the output.) "
   ]
  },
  {
   "cell_type": "code",
   "execution_count": null,
   "metadata": {},
   "outputs": [],
   "source": [
    "while True:\n",
    "    print(\"This loop will never end!\")\n"
   ]
  },
  {
   "cell_type": "markdown",
   "metadata": {},
   "source": [
    "Q5.\n",
    "Make a list called sandwich_orders and fill it with the names of various sandwiches. Then make an empty list called finished_sandwiches. Loop through the list of sandwich orders and print a message for each order, such as I made your tuna sandwich. As each sandwich is made, move it to the list of finished sandwiches. After all the sandwiches have been made, print a message listing each sandwich that was made."
   ]
  },
  {
   "cell_type": "code",
   "execution_count": 1,
   "metadata": {},
   "outputs": [
    {
     "name": "stdout",
     "output_type": "stream",
     "text": [
      "I made your BLT sandwich.\n",
      "I made your Turkey sandwich.\n",
      "I made your Chicken sandwich.\n",
      "I made your Grilled Cheese sandwich.\n",
      "\n",
      "List of finished sandwiches:\n",
      "BLT\n",
      "Turkey\n",
      "Chicken\n",
      "Grilled Cheese\n"
     ]
    }
   ],
   "source": [
    "sandwich_orders = [\"BLT\", \"Turkey\", \"Chicken\", \"Grilled Cheese\"]\n",
    "finished_sandwiches = []\n",
    "\n",
    "while sandwich_orders:\n",
    "    current_sandwich = sandwich_orders.pop(0)\n",
    "    print(\"I made your\", current_sandwich, \"sandwich.\")\n",
    "    finished_sandwiches.append(current_sandwich)\n",
    "\n",
    "print(\"\\nList of finished sandwiches:\")\n",
    "for sandwich in finished_sandwiches:\n",
    "    print(sandwich)\n"
   ]
  }
 ],
 "metadata": {
  "kernelspec": {
   "display_name": "Python 3",
   "language": "python",
   "name": "python3"
  },
  "language_info": {
   "codemirror_mode": {
    "name": "ipython",
    "version": 3
   },
   "file_extension": ".py",
   "mimetype": "text/x-python",
   "name": "python",
   "nbconvert_exporter": "python",
   "pygments_lexer": "ipython3",
   "version": "3.11.3"
  }
 },
 "nbformat": 4,
 "nbformat_minor": 2
}
